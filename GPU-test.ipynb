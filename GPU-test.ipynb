{
 "cells": [
  {
   "cell_type": "markdown",
   "metadata": {},
   "source": [
    "## 业务背景\n",
    "### 用户对GPU的存在以及对运算加速的效果产生了质疑"
   ]
  },
  {
   "cell_type": "code",
   "execution_count": 78,
   "metadata": {},
   "outputs": [],
   "source": [
    "import tensorflow as tf\n",
    "tf.compat.v1.disable_eager_execution()"
   ]
  },
  {
   "cell_type": "code",
   "execution_count": 71,
   "metadata": {},
   "outputs": [
    {
     "data": {
      "text/plain": [
       "[PhysicalDevice(name='/physical_device:GPU:0', device_type='GPU')]"
      ]
     },
     "execution_count": 71,
     "metadata": {},
     "output_type": "execute_result"
    }
   ],
   "source": [
    "tf.config.list_physical_devices(\"GPU\")"
   ]
  },
  {
   "cell_type": "code",
   "execution_count": 72,
   "metadata": {},
   "outputs": [
    {
     "name": "stdout",
     "output_type": "stream",
     "text": [
      "Tue Jun  9 08:34:21 2020       \n",
      "+-----------------------------------------------------------------------------+\n",
      "| NVIDIA-SMI 440.64.00    Driver Version: 440.64.00    CUDA Version: 10.2     |\n",
      "|-------------------------------+----------------------+----------------------+\n",
      "| GPU  Name        Persistence-M| Bus-Id        Disp.A | Volatile Uncorr. ECC |\n",
      "| Fan  Temp  Perf  Pwr:Usage/Cap|         Memory-Usage | GPU-Util  Compute M. |\n",
      "|===============================+======================+======================|\n",
      "|   0  Tesla T4            Off  | 00000000:00:1E.0 Off |                    0 |\n",
      "| N/A   56C    P0    29W /  70W |  14544MiB / 15109MiB |      0%      Default |\n",
      "+-------------------------------+----------------------+----------------------+\n",
      "                                                                               \n",
      "+-----------------------------------------------------------------------------+\n",
      "| Processes:                                                       GPU Memory |\n",
      "|  GPU       PID   Type   Process name                             Usage      |\n",
      "|=============================================================================|\n",
      "+-----------------------------------------------------------------------------+\n"
     ]
    }
   ],
   "source": [
    "!nvidia-smi"
   ]
  },
  {
   "cell_type": "code",
   "execution_count": 75,
   "metadata": {},
   "outputs": [
    {
     "data": {
      "text/plain": [
       "[PhysicalDevice(name='/physical_device:CPU:0', device_type='CPU')]"
      ]
     },
     "execution_count": 75,
     "metadata": {},
     "output_type": "execute_result"
    }
   ],
   "source": [
    "tf.config.list_physical_devices(\"CPU\")"
   ]
  },
  {
   "cell_type": "markdown",
   "metadata": {},
   "source": [
    "## 通过对随机大矩阵的内积以及求和，10000*10000\n",
    "### 测试GPU速度"
   ]
  },
  {
   "cell_type": "code",
   "execution_count": 81,
   "metadata": {},
   "outputs": [
    {
     "name": "stdout",
     "output_type": "stream",
     "text": [
      "Device mapping:\n",
      "/job:localhost/replica:0/task:0/device:XLA_CPU:0 -> device: XLA_CPU device\n",
      "/job:localhost/replica:0/task:0/device:XLA_GPU:0 -> device: XLA_GPU device\n",
      "/job:localhost/replica:0/task:0/device:GPU:0 -> device: 0, name: Tesla T4, pci bus id: 0000:00:1e.0, compute capability: 7.5\n",
      "\n",
      "Shape: (10000, 10000) Device: /gpu:0\n",
      "Time taken: 0:00:00.593633\n"
     ]
    }
   ],
   "source": [
    "#!/usr/bin/env python\n",
    "# -*- coding:utf-8 -*-\n",
    "import sys\n",
    "import tensorflow as tf\n",
    "from datetime import datetime\n",
    "\n",
    "shape = (10000, 10000)\n",
    "\n",
    "device_name = \"/gpu:0\"\n",
    "with tf.device(device_name):\n",
    "    random_matrix = tf.random.uniform(shape=shape, minval=0, maxval=1)\n",
    "    dot_operation = tf.matmul(random_matrix, tf.transpose(random_matrix))\n",
    "    sum_operation = tf.reduce_sum(dot_operation)\n",
    " \n",
    "startTime = datetime.now()\n",
    "with tf.compat.v1.Session(config=tf.compat.v1.ConfigProto(log_device_placement=True)) as session:\n",
    "        result = session.run(sum_operation)\n",
    "        \n",
    "print(\"Shape:\", shape, \"Device:\", device_name)\n",
    "print(\"Time taken:\", datetime.now() - startTime)"
   ]
  },
  {
   "cell_type": "markdown",
   "metadata": {},
   "source": [
    "### 测试CPU速度"
   ]
  },
  {
   "cell_type": "code",
   "execution_count": 82,
   "metadata": {},
   "outputs": [
    {
     "name": "stdout",
     "output_type": "stream",
     "text": [
      "Device mapping:\n",
      "/job:localhost/replica:0/task:0/device:XLA_CPU:0 -> device: XLA_CPU device\n",
      "/job:localhost/replica:0/task:0/device:XLA_GPU:0 -> device: XLA_GPU device\n",
      "/job:localhost/replica:0/task:0/device:GPU:0 -> device: 0, name: Tesla T4, pci bus id: 0000:00:1e.0, compute capability: 7.5\n",
      "\n",
      "Shape: (10000, 10000) Device: /cpu:0\n",
      "Time taken: 0:00:07.007780\n"
     ]
    }
   ],
   "source": [
    "device_name = \"/cpu:0\"\n",
    "with tf.device(device_name):\n",
    "    random_matrix = tf.random.uniform(shape=shape, minval=0, maxval=1)\n",
    "    dot_operation = tf.matmul(random_matrix, tf.transpose(random_matrix))\n",
    "    sum_operation = tf.reduce_sum(dot_operation)\n",
    " \n",
    "startTime = datetime.now()\n",
    "with tf.compat.v1.Session(config=tf.compat.v1.ConfigProto(log_device_placement=True)) as session:\n",
    "        result = session.run(sum_operation)\n",
    "        \n",
    "print(\"Shape:\", shape, \"Device:\", device_name)\n",
    "print(\"Time taken:\", datetime.now() - startTime)"
   ]
  },
  {
   "cell_type": "markdown",
   "metadata": {},
   "source": [
    "### 写一个完整的代码来进行测试"
   ]
  },
  {
   "cell_type": "code",
   "execution_count": 49,
   "metadata": {},
   "outputs": [],
   "source": [
    "shape_index = [10, 50, 100, 200, 300, 400, 500, 1000, 2000, 3000, 4000, 5000, 6000, 7000, 8000, 9000, 10000, 12000, 14000, 16000, 18000, 20000]\n",
    "gpu_time = []\n",
    "cpu_time = []\n",
    "\n",
    "for i in shape_index:\n",
    "    print(\"shape is %d\"%i)\n",
    "    shape = (i, i)\n",
    "    \n",
    "    device_name = \"/gpu:0\"\n",
    "    with tf.device(device_name):\n",
    "        random_matrix = tf.random.uniform(shape=shape, minval=0, maxval=1)\n",
    "        dot_operation = tf.matmul(random_matrix, tf.transpose(random_matrix))\n",
    "        sum_operation = tf.reduce_sum(dot_operation)\n",
    "\n",
    "    startTime = datetime.now()\n",
    "    with tf.compat.v1.Session(config=tf.compat.v1.ConfigProto(log_device_placement=True)) as session:\n",
    "            result = session.run(sum_operation)\n",
    "    \n",
    "    gpu_time.append((datetime.now() - startTime).total_seconds())\n",
    "    \n",
    "    device_name = \"/cpu:0\"\n",
    "    with tf.device(device_name):\n",
    "        random_matrix = tf.random.uniform(shape=shape, minval=0, maxval=1)\n",
    "        dot_operation = tf.matmul(random_matrix, tf.transpose(random_matrix))\n",
    "        sum_operation = tf.reduce_sum(dot_operation)\n",
    "\n",
    "    startTime = datetime.now()\n",
    "    with tf.compat.v1.Session(config=tf.compat.v1.ConfigProto(log_device_placement=True)) as session:\n",
    "            result = session.run(sum_operation)\n",
    "    \n",
    "    cpu_time.append((datetime.now() - startTime).total_seconds())"
   ]
  },
  {
   "cell_type": "code",
   "execution_count": 50,
   "metadata": {},
   "outputs": [
    {
     "name": "stdout",
     "output_type": "stream",
     "text": [
      "[0.06022, 0.061127, 0.060828, 0.063236, 0.065818, 0.04857, 0.058411, 0.06381, 0.15407, 0.355785, 0.633734, 1.042341, 1.698777, 2.649422, 3.813983, 5.24259, 6.982788, 12.058957, 19.264845, 28.291247, 41.704973, 57.250015]\n",
      "[0.046954, 0.061725, 0.061712, 0.056078, 0.062949, 0.327458, 0.046454, 0.143916, 0.076921, 0.07351, 0.124287, 0.157312, 0.206742, 0.226742, 0.37517, 0.488631, 0.546155, 0.878265, 1.305315, 1.909868, 2.660149, 3.706797]\n"
     ]
    },
    {
     "data": {
      "image/png": "[encoded data removed]",
      "text/plain": [
       "<Figure size 1080x720 with 2 Axes>"
      ]
     },
     "metadata": {
      "needs_background": "light"
     },
     "output_type": "display_data"
    }
   ],
   "source": [
    "%matplotlib inline\n",
    "import matplotlib.pyplot as plt    \n",
    "import numpy as np\n",
    "fig, ax = plt.subplots(nrows=1, ncols=2, figsize=(15,10))\n",
    "ax[0].plot(shape_index, gpu_time)\n",
    "ax[0].plot(shape_index, cpu_time)\n",
    "ax[0].set_xlabel(\"shape\")\n",
    "ax[0].set_ylabel(\"cost_time / sec\") \n",
    "ax[0].set_title(\"GPU & CPU cost time\")\n",
    "\n",
    "print(cpu_time)\n",
    "print(gpu_time)\n",
    "multiple = np.array(cpu_time) / np.array(gpu_time)\n",
    "ax[1].plot(shape_index, multiple)\n",
    "ax[1].set_xlabel(\"shape\")\n",
    "ax[1].set_ylabel(\"cpu/gpu\") \n",
    "ax[1].set_title(\"CPU Time / GPU Time\")\n",
    "\n",
    "plt.show()"
   ]
  },
  {
   "cell_type": "markdown",
   "metadata": {},
   "source": [
    "### GPU和CPU在网络上的对比"
   ]
  },
  {
   "cell_type": "code",
   "execution_count": 5,
   "metadata": {},
   "outputs": [
    {
     "name": "stdout",
     "output_type": "stream",
     "text": [
      "Train on 60000 samples\n",
      "Epoch 1/5\n",
      "60000/60000 [==============================] - 4s 69us/sample - loss: 0.2281 - accuracy: 0.9319\n",
      "Epoch 2/5\n",
      "60000/60000 [==============================] - 4s 64us/sample - loss: 0.1237 - accuracy: 0.9644\n",
      "Epoch 3/5\n",
      "60000/60000 [==============================] - 4s 64us/sample - loss: 0.1024 - accuracy: 0.9707\n",
      "Epoch 4/5\n",
      "60000/60000 [==============================] - 4s 64us/sample - loss: 0.0859 - accuracy: 0.9756\n",
      "Epoch 5/5\n",
      "60000/60000 [==============================] - 4s 64us/sample - loss: 0.0789 - accuracy: 0.9783\n",
      "10000/10000 [==============================] - 0s 49us/sample - loss: 0.1086 - accuracy: 0.9725\n",
      "Train on 60000 samples\n",
      "Epoch 1/5\n",
      "60000/60000 [==============================] - 20s 329us/sample - loss: 0.2288 - accuracy: 0.9316\n",
      "Epoch 2/5\n",
      "60000/60000 [==============================] - 19s 323us/sample - loss: 0.1248 - accuracy: 0.9633\n",
      "Epoch 3/5\n",
      "60000/60000 [==============================] - 19s 324us/sample - loss: 0.0999 - accuracy: 0.9714\n",
      "Epoch 4/5\n",
      "60000/60000 [==============================] - 19s 323us/sample - loss: 0.0862 - accuracy: 0.9754\n",
      "Epoch 5/5\n",
      "60000/60000 [==============================] - 19s 322us/sample - loss: 0.0733 - accuracy: 0.9790\n",
      "10000/10000 [==============================] - 1s 83us/sample - loss: 0.0825 - accuracy: 0.9768\n"
     ]
    }
   ],
   "source": [
    "import tensorflow as tf\n",
    "from datetime import datetime\n",
    "\n",
    "mnist = tf.keras.datasets.mnist\n",
    "(x_train, y_train), (x_test, y_test) = mnist.load_data()\n",
    "x_train, x_test = x_train / 255.0, x_test / 255.0\n",
    "\n",
    "\n",
    "startTime = datetime.now()\n",
    "with tf.device('/gpu:0'):\n",
    "    model = tf.keras.models.Sequential([\n",
    "      tf.keras.layers.Flatten(input_shape=(28, 28)),\n",
    "      tf.keras.layers.Dense(1000, activation='relu'),\n",
    "      tf.keras.layers.Dropout(0.2),\n",
    "      tf.keras.layers.Dense(1000, activation='relu'),\n",
    "      tf.keras.layers.Dropout(0.2),\n",
    "      tf.keras.layers.Dense(1000, activation='relu'),\n",
    "      tf.keras.layers.Dropout(0.2),\n",
    "      tf.keras.layers.Dense(10, activation='softmax')\n",
    "    ])\n",
    "\n",
    "    model.compile(optimizer='adam',\n",
    "                  loss='sparse_categorical_crossentropy',\n",
    "                  metrics=['accuracy'])\n",
    "    \n",
    "    model.fit(x_train, y_train, epochs=5)\n",
    "    model.evaluate(x_test, y_test)\n",
    "gpu_cost_time = datetime.now() - startTime\n",
    "\n",
    "\n",
    "startTime = datetime.now()\n",
    "with tf.device('/cpu:0'):\n",
    "    model = tf.keras.models.Sequential([\n",
    "      tf.keras.layers.Flatten(input_shape=(28, 28)),\n",
    "      tf.keras.layers.Dense(1000, activation='relu'),\n",
    "      tf.keras.layers.Dropout(0.2),\n",
    "      tf.keras.layers.Dense(1000, activation='relu'),\n",
    "      tf.keras.layers.Dropout(0.2),\n",
    "      tf.keras.layers.Dense(1000, activation='relu'),\n",
    "      tf.keras.layers.Dropout(0.2),\n",
    "      tf.keras.layers.Dense(10, activation='softmax')\n",
    "    ])\n",
    "    model.compile(optimizer='adam',\n",
    "                  loss='sparse_categorical_crossentropy',\n",
    "                  metrics=['accuracy'])\n",
    "    model.fit(x_train, y_train, epochs=5)\n",
    "    model.evaluate(x_test, y_test)\n",
    "cpu_cost_time = datetime.now() - startTime"
   ]
  },
  {
   "cell_type": "code",
   "execution_count": 7,
   "metadata": {},
   "outputs": [
    {
     "name": "stdout",
     "output_type": "stream",
     "text": [
      "GPU Cost Time：0:00:20.760464, CPU Cost Time：0:01:38.578084\n"
     ]
    }
   ],
   "source": [
    "print('GPU Cost Time：%s, CPU Cost Time：%s' % (str(gpu_cost_time), str(cpu_cost_time)))"
   ]
  },
  {
   "cell_type": "code",
   "execution_count": null,
   "metadata": {},
   "outputs": [],
   "source": []
  }
 ],
 "metadata": {
  "kernelspec": {
   "display_name": "Python 3 (TensorFlow 2 GPU Optimized)",
   "language": "python",
   "name": "python3__SAGEMAKER_INTERNAL__arn:aws:sagemaker:us-east-2:429704687514:image/tensorflow-2.1-gpu-py36"
  },
  "language_info": {
   "codemirror_mode": {
    "name": "ipython",
    "version": 3
   },
   "file_extension": ".py",
   "mimetype": "text/x-python",
   "name": "python",
   "nbconvert_exporter": "python",
   "pygments_lexer": "ipython3",
   "version": "3.6.9"
  }
 },
 "nbformat": 4,
 "nbformat_minor": 4
}
